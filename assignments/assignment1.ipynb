{
 "cells": [
  {
   "cell_type": "markdown",
   "id": "5ab24874-89bf-4645-a8ba-ccfbcb30259c",
   "metadata": {},
   "source": [
    "# EE 5020 Homework 1: Pandas and Writing Practice\n",
    "\n",
    "Name: Farzana Yasmin Boby \n",
    "\n",
    "CIN: 401413256"
   ]
  },
  {
   "cell_type": "markdown",
   "id": "48eaf8b6-e212-4d25-bf15-ec85854628f1",
   "metadata": {
    "jp-MarkdownHeadingCollapsed": true,
    "tags": []
   },
   "source": [
    "## Overview\n",
    "\n",
    "In this homework, you will practice writing some Python code and using the Python data analysis libraries (seaborn, pandas, numpy, matplotlib).  You will analyze one of the example datasets we have in the `as_datasets` folder, `hof.csv`.  This dataset  is based on the number of hits of a baseball player in their career and whether or not they are in the Hall of Fame.  The dataset contains two columns, \"Hits\" and \"HOF\"."
   ]
  },
  {
   "cell_type": "markdown",
   "id": "42188b79-25a8-43f9-9416-eb4076af79f0",
   "metadata": {},
   "source": [
    "## Section 1: Python Practice\n",
    "\n",
    "First, import the following libraries with usable names:\n",
    "- pandas\n",
    "- matplotlib.pyplot\n",
    "- seaborn\n",
    "- numpy"
   ]
  },
  {
   "cell_type": "markdown",
   "id": "b0230db2-8e31-4b83-9be2-d001edf17799",
   "metadata": {},
   "source": [
    "Importing pandas, matplotlib.pyplot, seaborn and numpy"
   ]
  },
  {
   "cell_type": "code",
   "execution_count": 1,
   "id": "ed17e6aa-a9f2-4c61-a5da-a1156df3fff7",
   "metadata": {},
   "outputs": [],
   "source": [
    "import pandas as pd\n",
    "import matplotlib.pyplot as plt\n",
    "import seaborn as sns\n",
    "import numpy as np\n"
   ]
  },
  {
   "cell_type": "markdown",
   "id": "ab6687ae-5af3-4bc2-b85c-add6a8cc5ca6",
   "metadata": {},
   "source": [
    "Next, use pandas' `read_csv` function to import the CSV as a DataFrame, with a friendly, descriptive name:"
   ]
  },
  {
   "cell_type": "code",
   "execution_count": 2,
   "id": "1f4d599f-7d89-4b96-bcf9-911c1b5215a0",
   "metadata": {
    "tags": []
   },
   "outputs": [
    {
     "name": "stdout",
     "output_type": "stream",
     "text": [
      "   Hits  HOF\n",
      "0   972    0\n",
      "1   989    0\n",
      "2  1007    0\n",
      "3  1030    0\n",
      "4  1041    0\n"
     ]
    }
   ],
   "source": [
    "df_hof = pd.read_csv(\"../as_datasets/hof.csv\")\n",
    "print(df_hof.head())\n"
   ]
  },
  {
   "cell_type": "markdown",
   "id": "924775ee-daa6-4482-92f9-1d1d33f727c0",
   "metadata": {},
   "source": [
    "Rename the column \"Hits\" to \"no_of_hits\" and \"HOF\" to \"hall_of_fame\""
   ]
  },
  {
   "cell_type": "code",
   "execution_count": 3,
   "id": "c9e43842-0be6-47a6-a631-f0f11d610537",
   "metadata": {
    "tags": []
   },
   "outputs": [
    {
     "name": "stdout",
     "output_type": "stream",
     "text": [
      "   no_of_hits  hall_of_fame\n",
      "0         972             0\n",
      "1         989             0\n",
      "2        1007             0\n",
      "3        1030             0\n",
      "4        1041             0\n"
     ]
    }
   ],
   "source": [
    "df_hof['no_of_hits'] = df_hof['Hits']\n",
    "df_hof['hall_of_fame'] = df_hof['HOF']\n",
    "df_hof = df_hof[['no_of_hits', 'hall_of_fame']]\n",
    "print(df_hof.head())"
   ]
  },
  {
   "cell_type": "markdown",
   "id": "7f02191a-4d8b-4285-80ca-8ae578958790",
   "metadata": {},
   "source": [
    "Now, let's get some preliminary information and descriptive statistics (count, mean, standard deviation, min, max, quartiles) about our dataset:"
   ]
  },
  {
   "cell_type": "markdown",
   "id": "1d9b9340-7fc2-43c3-b5f4-c57cf66dec50",
   "metadata": {},
   "source": [
    "Getting description of the players number of hits and hall of fame"
   ]
  },
  {
   "cell_type": "code",
   "execution_count": 4,
   "id": "9667da89-12cd-461d-bf1f-1239d82f64a6",
   "metadata": {},
   "outputs": [
    {
     "name": "stdout",
     "output_type": "stream",
     "text": [
      "   no_of_hits  hall_of_fame\n",
      "0         972             0\n",
      "1         989             0\n",
      "2        1007             0\n",
      "3        1030             0\n",
      "4        1041             0\n",
      "count     774.000000\n",
      "mean     1719.957364\n",
      "std       532.603682\n",
      "min       972.000000\n",
      "25%      1316.000000\n",
      "50%      1566.000000\n",
      "75%      2011.000000\n",
      "max      4256.000000\n",
      "Name: no_of_hits, dtype: float64\n",
      "count    774.000000\n",
      "mean       0.182171\n",
      "std        0.386235\n",
      "min        0.000000\n",
      "25%        0.000000\n",
      "50%        0.000000\n",
      "75%        0.000000\n",
      "max        1.000000\n",
      "Name: hall_of_fame, dtype: float64\n"
     ]
    }
   ],
   "source": [
    "print(df_hof.head())\n",
    "print(df_hof['no_of_hits'].describe())\n",
    "print(df_hof['hall_of_fame'].describe())"
   ]
  },
  {
   "cell_type": "markdown",
   "id": "5ed137aa-be7b-4fda-b79a-d50494377481",
   "metadata": {},
   "source": [
    "Now, getting some other descriptive statistics (count, mean, standard deviation, min, max, quartiles) of the players no. of hits and hall of fame manually"
   ]
  },
  {
   "cell_type": "code",
   "execution_count": 5,
   "id": "e89c608c-b2e9-4bad-bbf4-64cfb6c99984",
   "metadata": {},
   "outputs": [
    {
     "name": "stdout",
     "output_type": "stream",
     "text": [
      "The mean of the no. of hits is: 1719.9573643410852\n",
      "The counts of the no. of hits is: 774\n",
      "The mean of the hall of fame is: 0.1821705426356589\n",
      "The counts of the HOF is: 774\n",
      "The standard deviation of hits is: 532.2595119907968\n",
      "The standard deviation of HOF is: 0.38598502047552113\n",
      "Min no. of hits is: 972\n",
      "Max no. of hits is: 4256\n",
      "Min of HOF is: 0\n",
      "Max of HOF is: 1\n",
      "Q1 quartile of hits :  1316.0\n",
      "Q2 quartile of hits :  1566.0\n",
      "Q3 quartile of hits :  2011.0\n",
      "Q1 quartile of HOF :  0.0\n",
      "Q2 quartile of HOF :  0.0\n",
      "Q3 quartile of HOF :  0.0\n"
     ]
    }
   ],
   "source": [
    "mean_of_hits = df_hof['no_of_hits'].mean()\n",
    "print(f'The mean of the no. of hits is: {mean_of_hits}')\n",
    "count_of_hits = df_hof['no_of_hits'].count()\n",
    "print(f'The counts of the no. of hits is: {count_of_hits}')\n",
    "mean_of_HOF = df_hof['hall_of_fame'].mean()\n",
    "print(f'The mean of the hall of fame is: {mean_of_HOF}')\n",
    "count_of_HOF = df_hof['hall_of_fame'].count()\n",
    "print(f'The counts of the HOF is: {count_of_HOF}')\n",
    "\n",
    "variance_of_hits = np.sum(np.square(df_hof['no_of_hits'] - mean_of_hits) / count_of_hits)\n",
    "stdev_of_hits = np.sqrt(variance_of_hits)\n",
    "print(f\"The standard deviation of hits is: {stdev_of_hits}\")\n",
    "\n",
    "variance_of_HOF = np.sum(np.square(df_hof['hall_of_fame'] - mean_of_HOF) / count_of_HOF)\n",
    "stdev_of_HOF = np.sqrt(variance_of_HOF)\n",
    "print(f\"The standard deviation of HOF is: {stdev_of_HOF}\")\n",
    "\n",
    "min_hits = np.min(df_hof['no_of_hits'])\n",
    "print(f\"Min no. of hits is: {min_hits}\")\n",
    "max_hits = np.max(df_hof['no_of_hits'])\n",
    "print(f\"Max no. of hits is: {max_hits}\")\n",
    "\n",
    "min_HOF = np.min(df_hof['hall_of_fame'])\n",
    "print(f\"Min of HOF is: {min_HOF}\")\n",
    "max_HOF = np.max(df_hof['hall_of_fame'])\n",
    "print(f\"Max of HOF is: {max_HOF}\")\n",
    "\n",
    "print(\"Q1 quartile of hits : \", np.quantile(df_hof['no_of_hits'], .25))\n",
    "print(\"Q2 quartile of hits : \", np.quantile(df_hof['no_of_hits'], .5))\n",
    "print(\"Q3 quartile of hits : \", np.quantile(df_hof['no_of_hits'], .75))\n",
    "\n",
    "print(\"Q1 quartile of HOF : \", np.quantile(df_hof['hall_of_fame'], .25))\n",
    "print(\"Q2 quartile of HOF : \", np.quantile(df_hof['hall_of_fame'], .5))\n",
    "print(\"Q3 quartile of HOF : \", np.quantile(df_hof['hall_of_fame'], .75))"
   ]
  },
  {
   "cell_type": "markdown",
   "id": "f0e03eb6-44ef-4a0e-9305-447a7d8b9205",
   "metadata": {},
   "source": [
    "As an exercise, let's use the last two digits of your CIN to sample the data in a systematic way.  Write a function that uses the [`np.arange()`](https://docs.scipy.org/doc/numpy/reference/generated/numpy.arange.html) function that creates a \"selection vector\" (a `ndarray` with the row indices that we would like to select) to subsample an input DataFrame. \n",
    "\n",
    "The selection vector should contains multiples based on one quarter (floor divide by 4, the operator is two division symbols together like `//`) of the last two digits of a CIN and returns a subsampled version of the input DataFrame. You can get the last two digits of your CIN by using the modulo operator, which is the `%` operator.\n",
    "\n",
    "For example, if the last two digits a CIN are 34, and our input DataFrame had 200 rows (obtained from the `len()` function), then the selection vector would be `[0, 8, 16, ...]`.  Then, this selection vector would be used to subsample the input DataFrame, so only rows 0, 8, 16, etc. are used.  You can select specific rows by just using the square brackets, like: `df_full_table[selection_vector]`, then just save the result into a new varable.\n",
    "\n",
    "The signature for your function should be similar to:\n",
    "\n",
    "`def cin_subsample_dataframe(df_input: pd.DataFrame, cin: int) -> pd.DataFrame:`"
   ]
  },
  {
   "cell_type": "markdown",
   "id": "79e49136-f360-4794-bc77-466793ac8141",
   "metadata": {},
   "source": [
    "Generating a new vector named selection_vector produced by my CIN=401413256 and \n",
    "the input dataframe df_hof"
   ]
  },
  {
   "cell_type": "code",
   "execution_count": 6,
   "id": "3d87d281-7eac-4b1f-acc7-cbef953b0d96",
   "metadata": {},
   "outputs": [
    {
     "name": "stdout",
     "output_type": "stream",
     "text": [
      "The selection vector is: [  0  14  28  42  56  70  84  98 112 126 140 154 168 182 196 210 224 238\n",
      " 252 266 280 294 308 322 336 350 364 378 392 406 420 434 448 462 476 490\n",
      " 504 518 532 546 560 574 588 602 616 630 644 658 672 686 700 714 728 742\n",
      " 756 770]\n"
     ]
    }
   ],
   "source": [
    "cin = 401413256\n",
    "last_two_digit = cin%100\n",
    "stop = len(df_hof)\n",
    "selection_vector = np.arange(0, stop, last_two_digit // 4)\n",
    "\n",
    "print(f'The selection vector is: {selection_vector}')"
   ]
  },
  {
   "cell_type": "markdown",
   "id": "52cf633f-41c4-47b7-a849-f505862ae608",
   "metadata": {},
   "source": [
    "Now, use your function to get a new DataFrame that is the subsampled version of the original DataFrame above,\n",
    "and save it to a new variable name:"
   ]
  },
  {
   "cell_type": "markdown",
   "id": "ea460deb-f1a9-4055-b823-777648e633a5",
   "metadata": {},
   "source": [
    "With a function, generating a subsampled dataframe of df_hof by using the selection_vector and naming it as df_subsample"
   ]
  },
  {
   "cell_type": "code",
   "execution_count": 7,
   "id": "8729ad99-20ff-44a1-9cee-4da49c8774cc",
   "metadata": {},
   "outputs": [
    {
     "name": "stdout",
     "output_type": "stream",
     "text": [
      "    no_of_hits  hall_of_fame\n",
      "0          972             0\n",
      "14        1068             0\n",
      "28        1105             0\n",
      "42        1132             0\n",
      "56        1154             0\n"
     ]
    }
   ],
   "source": [
    "def cin_subsample_dataframe(df_input: pd.DataFrame, CIN: int) -> pd.DataFrame:\n",
    "    df_subsample_hof = df_hof.iloc[selection_vector]\n",
    "    return df_subsample_hof\n",
    "\n",
    "df_subsample = cin_subsample_dataframe(df_hof, cin)\n",
    "print(f'{df_subsample.head()}')"
   ]
  },
  {
   "cell_type": "markdown",
   "id": "fe762f98-6eee-450e-9493-2c59afb4b6c3",
   "metadata": {},
   "source": [
    "Let's look at the descriptive statistics for the subsampled DataFrame now.  What can we run in the cell below to get some descriptive statistics for our subsampled DataFrame?"
   ]
  },
  {
   "cell_type": "markdown",
   "id": "0bfb937e-aceb-4dc5-ab66-0fee9e72f42f",
   "metadata": {},
   "source": [
    "Getting some descriptive statistics of our subsampled DataFrame"
   ]
  },
  {
   "cell_type": "code",
   "execution_count": 8,
   "id": "54b2b16c-b820-40c1-88f3-d68161ce3a12",
   "metadata": {},
   "outputs": [
    {
     "name": "stdout",
     "output_type": "stream",
     "text": [
      "count      56.000000\n",
      "mean     1722.214286\n",
      "std       554.221213\n",
      "min       972.000000\n",
      "25%      1315.500000\n",
      "50%      1568.500000\n",
      "75%      2010.750000\n",
      "max      3630.000000\n",
      "Name: no_of_hits, dtype: float64\n",
      "count    56.000000\n",
      "mean      0.160714\n",
      "std       0.370591\n",
      "min       0.000000\n",
      "25%       0.000000\n",
      "50%       0.000000\n",
      "75%       0.000000\n",
      "max       1.000000\n",
      "Name: hall_of_fame, dtype: float64\n",
      "The mean of the no. of hits is: 1722.2142857142858\n",
      "The counts of the no. of hits is: 56\n",
      "The mean of the hall of fame is: 0.16071428571428573\n",
      "The counts of the HOF is: 56\n",
      "The standard deviation of hits is: 549.250519028486\n",
      "The standard deviation of HOF is: 0.36726721073577023\n",
      "Min no. of hits is: 972\n",
      "Max no. of hits is: 3630\n",
      "Min of HOF is: 0\n",
      "Max of HOF is: 1\n",
      "Q1 quartile of hits :  1315.5\n",
      "Q2 quartile of hits :  1568.5\n",
      "Q3 quartile of hits :  2010.75\n",
      "Q1 quartile of HOF :  0.0\n",
      "Q2 quartile of HOF :  0.0\n",
      "Q3 quartile of HOF :  0.0\n"
     ]
    }
   ],
   "source": [
    "print(df_subsample['no_of_hits'].describe())\n",
    "print(df_subsample['hall_of_fame'].describe())\n",
    "\n",
    "mean_of_hits = df_subsample['no_of_hits'].mean()\n",
    "print(f'The mean of the no. of hits is: {mean_of_hits}')\n",
    "count_of_hits = df_subsample['no_of_hits'].count()\n",
    "print(f'The counts of the no. of hits is: {count_of_hits}')\n",
    "mean_of_HOF = df_subsample['hall_of_fame'].mean()\n",
    "print(f'The mean of the hall of fame is: {mean_of_HOF}')\n",
    "count_of_HOF = df_subsample['hall_of_fame'].count()\n",
    "print(f'The counts of the HOF is: {count_of_HOF}')\n",
    "\n",
    "variance_of_hits = np.sum(np.square(df_subsample['no_of_hits'] - mean_of_hits) / count_of_hits)\n",
    "stdev_of_hits = np.sqrt(variance_of_hits)\n",
    "print(f\"The standard deviation of hits is: {stdev_of_hits}\")\n",
    "\n",
    "variance_of_HOF = np.sum(np.square(df_subsample['hall_of_fame'] - mean_of_HOF) / count_of_HOF)\n",
    "stdev_of_HOF = np.sqrt(variance_of_HOF)\n",
    "print(f\"The standard deviation of HOF is: {stdev_of_HOF}\")\n",
    "\n",
    "min_hits = np.min(df_subsample['no_of_hits'])\n",
    "print(f\"Min no. of hits is: {min_hits}\")\n",
    "max_hits = np.max(df_subsample['no_of_hits'])\n",
    "print(f\"Max no. of hits is: {max_hits}\")\n",
    "\n",
    "min_HOF = np.min(df_subsample['hall_of_fame'])\n",
    "print(f\"Min of HOF is: {min_HOF}\")\n",
    "max_HOF = np.max(df_subsample['hall_of_fame'])\n",
    "print(f\"Max of HOF is: {max_HOF}\")\n",
    "\n",
    "print(\"Q1 quartile of hits : \", np.quantile(df_subsample['no_of_hits'], .25))\n",
    "print(\"Q2 quartile of hits : \", np.quantile(df_subsample['no_of_hits'], .5))\n",
    "print(\"Q3 quartile of hits : \", np.quantile(df_subsample['no_of_hits'], .75))\n",
    "\n",
    "print(\"Q1 quartile of HOF : \", np.quantile(df_subsample['hall_of_fame'], .25))\n",
    "print(\"Q2 quartile of HOF : \", np.quantile(df_subsample['hall_of_fame'], .5))\n",
    "print(\"Q3 quartile of HOF : \", np.quantile(df_subsample['hall_of_fame'], .75))"
   ]
  },
  {
   "cell_type": "markdown",
   "id": "67f4c8bc-cde0-4be3-b255-904b136e1966",
   "metadata": {
    "tags": []
   },
   "source": [
    "Now, edit (double-click) this cell to answer the following questions:\n",
    "\n",
    "\n",
    "1. How many rows of data does your systematically subsampled DataFrame contain? \n",
    "\n",
    "   Ans: My systematically subsampled DataFrame contains 56 rows of data.\n",
    "\n",
    "2. What is the mean number of hits of the players in your subsampled DataFrame? \n",
    "\n",
    "   Ans: The mean number of hits of the players in the subsampled DataFrame is 1722.214286\n",
    "\n",
    "3. What is the standard deviation of the hits of the players in your subsampled DataFrame?\n",
    "\n",
    "   Ans: The standard deviation of the hits of the players in my subsampled DataFrame is 549.250519028486\n",
    "\n",
    "\n",
    "\n",
    "Next, let's plot the histograms for each column in your subsampled DataFrame.  Use the DataFrame's built-in `.hist()` function first, but also pass in the `figsize` parameter with a tuple of two values (width, height) to create a larger plot.  Try starting with `figsize=(5, 5)` and adjust the numbers individually until you like the plot."
   ]
  },
  {
   "cell_type": "markdown",
   "id": "5d803d74-c29d-44b2-b874-19922e44e224",
   "metadata": {
    "tags": []
   },
   "source": [
    "Plotting the histograms of the column no_of_hits of the subsampled DataFrame and resizing the plot by changing the width and height of the plot"
   ]
  },
  {
   "cell_type": "code",
   "execution_count": 9,
   "id": "5b08a0ad-3138-4547-a97e-a23314f4914b",
   "metadata": {
    "tags": []
   },
   "outputs": [
    {
     "data": {
      "text/plain": [
       "(array([ 9., 16., 10.,  8.,  5.,  3.,  2.,  1.,  1.,  1.]),\n",
       " array([ 972. , 1237.8, 1503.6, 1769.4, 2035.2, 2301. , 2566.8, 2832.6,\n",
       "        3098.4, 3364.2, 3630. ]),\n",
       " <BarContainer object of 10 artists>)"
      ]
     },
     "execution_count": 9,
     "metadata": {},
     "output_type": "execute_result"
    },
    {
     "data": {
      "image/png": "[encoded data removed]",
      "text/plain": [
       "<Figure size 360x360 with 1 Axes>"
      ]
     },
     "metadata": {
      "needs_background": "light"
     },
     "output_type": "display_data"
    },
    {
     "data": {
      "image/png": "[encoded data removed]",
      "text/plain": [
       "<Figure size 504x432 with 1 Axes>"
      ]
     },
     "metadata": {
      "needs_background": "light"
     },
     "output_type": "display_data"
    },
    {
     "data": {
      "image/png": "[encoded data removed]",
      "text/plain": [
       "<Figure size 720x360 with 1 Axes>"
      ]
     },
     "metadata": {
      "needs_background": "light"
     },
     "output_type": "display_data"
    },
    {
     "data": {
      "image/png": "[encoded data removed]",
      "text/plain": [
       "<Figure size 1080x504 with 1 Axes>"
      ]
     },
     "metadata": {
      "needs_background": "light"
     },
     "output_type": "display_data"
    }
   ],
   "source": [
    "plt.figure(figsize=(5,5))\n",
    "plt.hist(df_subsample['no_of_hits'])\n",
    "plt.figure(figsize=(7,6))\n",
    "plt.hist(df_subsample['no_of_hits'])\n",
    "plt.figure(figsize=(10,5))\n",
    "plt.hist(df_subsample['no_of_hits'])\n",
    "plt.figure(figsize=(15,7))\n",
    "plt.hist(df_subsample['no_of_hits'])\n"
   ]
  },
  {
   "cell_type": "markdown",
   "id": "a5eda868-b9d6-4f26-bfe6-5376a934d6aa",
   "metadata": {},
   "source": [
    "Plotting the histograms of the column hall_of_fame of the subsampled DataFrame and \n",
    "resizing the plot by changing the width and height of the plot"
   ]
  },
  {
   "cell_type": "code",
   "execution_count": 10,
   "id": "d7787c5a-e82e-400e-b71c-da081f3416a1",
   "metadata": {
    "tags": []
   },
   "outputs": [
    {
     "data": {
      "text/plain": [
       "(array([47.,  0.,  0.,  0.,  0.,  0.,  0.,  0.,  0.,  9.]),\n",
       " array([0. , 0.1, 0.2, 0.3, 0.4, 0.5, 0.6, 0.7, 0.8, 0.9, 1. ]),\n",
       " <BarContainer object of 10 artists>)"
      ]
     },
     "execution_count": 10,
     "metadata": {},
     "output_type": "execute_result"
    },
    {
     "data": {
      "image/png": "[encoded data removed]",
      "text/plain": [
       "<Figure size 360x360 with 1 Axes>"
      ]
     },
     "metadata": {
      "needs_background": "light"
     },
     "output_type": "display_data"
    },
    {
     "data": {
      "image/png": "[encoded data removed]",
      "text/plain": [
       "<Figure size 432x432 with 1 Axes>"
      ]
     },
     "metadata": {
      "needs_background": "light"
     },
     "output_type": "display_data"
    },
    {
     "data": {
      "image/png": "[encoded data removed]",
      "text/plain": [
       "<Figure size 576x504 with 1 Axes>"
      ]
     },
     "metadata": {
      "needs_background": "light"
     },
     "output_type": "display_data"
    }
   ],
   "source": [
    "plt.figure(figsize=(5,5))\n",
    "plt.hist(df_subsample['hall_of_fame'])\n",
    "plt.figure(figsize=(6,6))\n",
    "plt.hist(df_subsample['hall_of_fame'])\n",
    "plt.figure(figsize=(8,7))\n",
    "plt.hist(df_subsample['hall_of_fame'])\n"
   ]
  },
  {
   "cell_type": "markdown",
   "id": "8a93f4af-1089-4c24-a112-c300b9b5629d",
   "metadata": {},
   "source": [
    "Next, use seaborn's [`histplot()`](https://seaborn.pydata.org/generated/seaborn.histplot.html) function instead, which accepts a pandas DataFrame as the data.  Show the number of hits and the counts of whether the player is in the hall of fame separately.  Which parameter can you pass into `histplot()` to make it so the gap between 0 and 1 in the \"HOF\" data does not appear?"
   ]
  },
  {
   "cell_type": "markdown",
   "id": "5cb590d6-090d-4e52-ba62-936e4c20741e",
   "metadata": {},
   "source": [
    "Using seaborn's histplot() function plotting the column no_of_hits and hall_of_fame of the subsampled DataFrame seperately"
   ]
  },
  {
   "cell_type": "code",
   "execution_count": 11,
   "id": "2f48c0e8-8bdd-4db0-88f0-7750741156c7",
   "metadata": {
    "tags": []
   },
   "outputs": [
    {
     "data": {
      "text/plain": [
       "<AxesSubplot:xlabel='hall_of_fame', ylabel='Count'>"
      ]
     },
     "execution_count": 11,
     "metadata": {},
     "output_type": "execute_result"
    },
    {
     "data": {
      "image/png": "[encoded data removed]",
      "text/plain": [
       "<Figure size 432x288 with 1 Axes>"
      ]
     },
     "metadata": {
      "needs_background": "light"
     },
     "output_type": "display_data"
    },
    {
     "data": {
      "image/png": "[encoded data removed]",
      "text/plain": [
       "<Figure size 432x288 with 1 Axes>"
      ]
     },
     "metadata": {
      "needs_background": "light"
     },
     "output_type": "display_data"
    }
   ],
   "source": [
    "plt.figure()\n",
    "sns.histplot(df_subsample['no_of_hits'])\n",
    "\n",
    "plt.figure()\n",
    "sns.histplot(df_subsample['hall_of_fame'])"
   ]
  },
  {
   "cell_type": "markdown",
   "id": "429b2f29-616a-4977-b1a1-2078fd2e14a4",
   "metadata": {},
   "source": [
    "To remove the gap between 0 and 1 in the plot of hof, I used bins=2 inside the histplot function"
   ]
  },
  {
   "cell_type": "code",
   "execution_count": 12,
   "id": "d436b7ee-c2f8-4413-a883-c1e132ba7271",
   "metadata": {
    "tags": []
   },
   "outputs": [
    {
     "data": {
      "text/plain": [
       "<AxesSubplot:xlabel='hall_of_fame', ylabel='Count'>"
      ]
     },
     "execution_count": 12,
     "metadata": {},
     "output_type": "execute_result"
    },
    {
     "data": {
      "image/png": "[encoded data removed]",
      "text/plain": [
       "<Figure size 432x288 with 1 Axes>"
      ]
     },
     "metadata": {
      "needs_background": "light"
     },
     "output_type": "display_data"
    }
   ],
   "source": [
    "plt.figure()\n",
    "sns.histplot(df_subsample['hall_of_fame'], bins=2)"
   ]
  },
  {
   "cell_type": "markdown",
   "id": "d87e6731-de6b-4470-b5ac-c8049063b514",
   "metadata": {},
   "source": [
    "We can also use binwidth in the histplot function to remove the gap between 0 and 1"
   ]
  },
  {
   "cell_type": "code",
   "execution_count": 13,
   "id": "f96bceec-091a-40b7-87c4-2490daa4fc7a",
   "metadata": {},
   "outputs": [
    {
     "data": {
      "text/plain": [
       "<AxesSubplot:xlabel='hall_of_fame', ylabel='Count'>"
      ]
     },
     "execution_count": 13,
     "metadata": {},
     "output_type": "execute_result"
    },
    {
     "data": {
      "image/png": "[encoded data removed]",
      "text/plain": [
       "<Figure size 432x288 with 1 Axes>"
      ]
     },
     "metadata": {
      "needs_background": "light"
     },
     "output_type": "display_data"
    }
   ],
   "source": [
    "plt.figure()\n",
    "sns.histplot(df_subsample['hall_of_fame'], binwidth = 0.5)"
   ]
  },
  {
   "cell_type": "markdown",
   "id": "444278a5-6ed4-4e17-81f5-ccd7714ca407",
   "metadata": {},
   "source": [
    "## Section 2: Dataset Analysis\n",
    "\n",
    "Now, let's start analyzing our dataset and see if we can draw some conclusions!  For the rest of this section, you will add your own cells (either Markdown or Code) to show your analysis code and discuss your results.\n",
    "\n",
    "**Write and discuss the steps to answering the following research question:** For the subsampled dataset, is having more hits than the mean number of hits more likely to achieve \"hall of fame\" status than random chance?\n",
    "\n",
    "You will be graded on the following criteria:\n",
    "- 25% statistical analysis is backed with reasoning and tests/scores\n",
    "- 50% Python code is correct, logical, readable, and not excessive\n",
    "- 25% clear writing and flow of the this section of the Jupyter notebook\n",
    "\n",
    "Make sure you write down the reasoning and method of creation for any additional columns you need to create."
   ]
  },
  {
   "cell_type": "markdown",
   "id": "b89f2b23-3e79-43bb-b2ea-a7fb746111bc",
   "metadata": {},
   "source": [
    "Now, creating a new column for the possible hall of fame achieved having more hits than mean number."
   ]
  },
  {
   "cell_type": "code",
   "execution_count": 17,
   "id": "b6ca3465-0f91-4e28-b42e-371533e46e89",
   "metadata": {
    "tags": []
   },
   "outputs": [
    {
     "name": "stdout",
     "output_type": "stream",
     "text": [
      "    no_of_hits  hall_of_fame  hof_achieved_for_more_than_mean_hits\n",
      "0          972             0                                     0\n",
      "14        1068             0                                     0\n",
      "28        1105             0                                     0\n",
      "42        1132             0                                     0\n",
      "56        1154             0                                     0\n"
     ]
    }
   ],
   "source": [
    "mean_hits = df_subsample['no_of_hits'].mean()\n",
    "df_subsample['hof_achieved_for_more_than_mean_hits'] = ((df_subsample['no_of_hits'] > mean_hits) & (df_subsample['hall_of_fame'])).astype('int')\n",
    "df_subsample = df_subsample[['no_of_hits', 'hall_of_fame', 'hof_achieved_for_more_than_mean_hits']]\n",
    "print(df_subsample.head())"
   ]
  },
  {
   "cell_type": "markdown",
   "id": "958b6247-0b5e-4d66-9562-6cadf2921b17",
   "metadata": {},
   "source": [
    "Let's compute the standardized statistics Z_1 for the mean of hall of fame achieved for more than mean no. of hits, to see if there is a difference between having more hits than mean number and random chance to achieve 'hall of fame' status."
   ]
  },
  {
   "cell_type": "code",
   "execution_count": 18,
   "id": "ecfa9cd5-4253-4cf3-aa56-d6e072201e77",
   "metadata": {},
   "outputs": [
    {
     "name": "stdout",
     "output_type": "stream",
     "text": [
      "Z-score for difference of having more hits than mean number and random chance to achieve hall of fame status: -5.3452248382484875\n"
     ]
    }
   ],
   "source": [
    "mean_hall_of_fame = df_subsample['hof_achieved_for_more_than_mean_hits'].mean()  # model sample mean\n",
    "null_mean = 0.5  # chance model\n",
    "null_std = np.sqrt(null_mean * (1 - null_mean) / df_subsample['hof_achieved_for_more_than_mean_hits'].count())\n",
    "\n",
    "z_1 = (mean_hall_of_fame - null_mean) / null_std\n",
    "print(f\"Z-score for difference of having more hits than mean number and random chance to achieve hall of fame status: {z_1}\")\n"
   ]
  },
  {
   "cell_type": "markdown",
   "id": "f5b4dada-d34e-49ba-9866-ef59c5921bd4",
   "metadata": {
    "tags": []
   },
   "source": [
    "It looks like the Z-score for hall of fame achieved for more hits than mean number is statistically significant because the z-score is quite large (larger than +/-2). So having more hits than the mean number of hits is more likely to achieve \"hall of fame\" status than random chance."
   ]
  }
 ],
 "metadata": {
  "kernelspec": {
   "display_name": "Python 3 (ipykernel)",
   "language": "python",
   "name": "python3"
  },
  "language_info": {
   "codemirror_mode": {
    "name": "ipython",
    "version": 3
   },
   "file_extension": ".py",
   "mimetype": "text/x-python",
   "name": "python",
   "nbconvert_exporter": "python",
   "pygments_lexer": "ipython3",
   "version": "3.9.6"
  }
 },
 "nbformat": 4,
 "nbformat_minor": 5
}
