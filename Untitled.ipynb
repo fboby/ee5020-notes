{
 "cells": [
  {
   "cell_type": "code",
   "execution_count": null,
   "id": "60ad8ec2-15f3-4ab7-a280-2cfd8c2d9b68",
   "metadata": {},
   "outputs": [],
   "source": [
    "#df_bac['sobriety_test_fails'] = df_bac['PASS'] == 0\n",
    "#df_bac['sobriety_test_passes'] = df_bac['PASS'] == 1\n",
    "df_bac['bac_for_stest_failure'] = ((df_bac['PASS'] == 0) & df_bac['BAC']).astype('int')\n",
    "df_bac['bac_for_stest_pass'] = ((df_bac['PASS'] == 1) & df_bac['BAC']).astype('int')\n",
    "df_bac"
   ]
  },
  {
   "cell_type": "code",
   "execution_count": null,
   "id": "ef1b1c2c-0286-44c2-a6c0-620496a8c8a3",
   "metadata": {},
   "outputs": [],
   "source": [
    "print(f\"The 95% confidence interval of BAC for subjects who fails sobriety test is: {get_confidence_interval(force_t=True, dataset=df_bac['bac_for_stest_failure'])}\")\n",
    "print(f\"The 95% confidence interval of BAC for subjects who passess sobriety test is: {get_confidence_interval(force_t=True, dataset=df_bac['bac_for_stest_pass'])}\")\n",
    "scipy.stats.ttest_ind(df_bac['bac_for_stest_failure'], df_bac['bac_for_stest_pass'])"
   ]
  },
  {
   "cell_type": "code",
   "execution_count": null,
   "id": "5ca9ab83-a576-4443-a11a-62c0e97b6fbd",
   "metadata": {},
   "outputs": [],
   "source": []
  },
  {
   "cell_type": "code",
   "execution_count": null,
   "id": "80d3d501-2664-4448-971e-0b43e90e2239",
   "metadata": {},
   "outputs": [],
   "source": [
    "# First, we need to get a \"long-form grouped\" version of df_rent:\n",
    "df_rent[\"apartment_ID\"] = df_rent.index + 1000000  # NOTE: normally dataset would have a unique identifier for each sample of data\n",
    "df_rent_long = df_rent.melt(id_vars=[\"apartment_ID\"],\n",
    "                            value_vars=[col_label for col_label in df_rent.columns],\n",
    "                            var_name=\"City_name\",\n",
    "                            value_name=\"rent\")\n",
    "df_rent_long.head()"
   ]
  },
  {
   "cell_type": "code",
   "execution_count": null,
   "id": "52ed9c14-3d00-4396-b74f-08542cf68064",
   "metadata": {},
   "outputs": [],
   "source": [
    "from statsmodels.stats.multicomp import pairwise_tukeyhsd\n",
    "\n",
    "rent_hsd = pairwise_tukeyhsd(endog=df_rent_long['rent'], groups=df_rent_long[\"City_name\"])\n",
    "\n",
    "rent_hsd.summary()"
   ]
  }
 ],
 "metadata": {
  "kernelspec": {
   "display_name": "Python 3 (ipykernel)",
   "language": "python",
   "name": "python3"
  },
  "language_info": {
   "codemirror_mode": {
    "name": "ipython",
    "version": 3
   },
   "file_extension": ".py",
   "mimetype": "text/x-python",
   "name": "python",
   "nbconvert_exporter": "python",
   "pygments_lexer": "ipython3",
   "version": "3.9.6"
  }
 },
 "nbformat": 4,
 "nbformat_minor": 5
}
